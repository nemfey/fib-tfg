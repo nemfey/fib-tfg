{
  "cells": [
    {
      "cell_type": "markdown",
      "metadata": {
        "id": "FwTxK5uq1ELj"
      },
      "source": [
        "**Author**: Victor Teixidó López"
      ]
    },
    {
      "cell_type": "code",
      "execution_count": null,
      "metadata": {
        "id": "qEoqDu-4XVPP",
        "colab": {
          "base_uri": "https://localhost:8080/"
        },
        "outputId": "6f448714-4979-4bf5-a615-c50cc03e5660"
      },
      "outputs": [
        {
          "output_type": "stream",
          "name": "stdout",
          "text": [
            "\u001b[?25l     \u001b[90m━━━━━━━━━━━━━━━━━━━━━━━━━━━━━━━━━━━━━━━━\u001b[0m \u001b[32m0.0/270.9 kB\u001b[0m \u001b[31m?\u001b[0m eta \u001b[36m-:--:--\u001b[0m\r\u001b[2K     \u001b[91m━━━━\u001b[0m\u001b[91m╸\u001b[0m\u001b[90m━━━━━━━━━━━━━━━━━━━━━━━━━━━━━━━━━━━\u001b[0m \u001b[32m30.7/270.9 kB\u001b[0m \u001b[31m847.4 kB/s\u001b[0m eta \u001b[36m0:00:01\u001b[0m\r\u001b[2K     \u001b[91m━━━━━━━━━\u001b[0m\u001b[90m╺\u001b[0m\u001b[90m━━━━━━━━━━━━━━━━━━━━━━━━━━━━━━\u001b[0m \u001b[32m61.4/270.9 kB\u001b[0m \u001b[31m930.5 kB/s\u001b[0m eta \u001b[36m0:00:01\u001b[0m\r\u001b[2K     \u001b[91m━━━━━━━━━━━━━━━━━━━━━━━━━\u001b[0m\u001b[91m╸\u001b[0m\u001b[90m━━━━━━━━━━━━━━\u001b[0m \u001b[32m174.1/270.9 kB\u001b[0m \u001b[31m1.7 MB/s\u001b[0m eta \u001b[36m0:00:01\u001b[0m\r\u001b[2K     \u001b[91m━━━━━━━━━━━━━━━━━━━━━━━━━━━━━━━━━━━━━━━\u001b[0m\u001b[90m╺\u001b[0m \u001b[32m266.2/270.9 kB\u001b[0m \u001b[31m2.1 MB/s\u001b[0m eta \u001b[36m0:00:01\u001b[0m\r\u001b[2K     \u001b[90m━━━━━━━━━━━━━━━━━━━━━━━━━━━━━━━━━━━━━━━━\u001b[0m \u001b[32m270.9/270.9 kB\u001b[0m \u001b[31m1.9 MB/s\u001b[0m eta \u001b[36m0:00:00\u001b[0m\n",
            "\u001b[?25h"
          ]
        }
      ],
      "source": [
        "!pip install -q -U accelerate"
      ]
    },
    {
      "cell_type": "code",
      "execution_count": null,
      "metadata": {
        "id": "PmMvMHYAXZmn"
      },
      "outputs": [],
      "source": [
        "import numpy as np\n",
        "import pandas as pd\n",
        "import seaborn as sns\n",
        "import matplotlib.pyplot as plt\n",
        "\n",
        "import tensorflow as tf\n",
        "\n",
        "import torch\n",
        "device = 'cuda'\n",
        "torch.cuda.empty_cache()"
      ]
    },
    {
      "cell_type": "markdown",
      "source": [
        "# Mount Google Drive"
      ],
      "metadata": {
        "id": "gaHanzGCLfFH"
      }
    },
    {
      "cell_type": "code",
      "source": [
        "from google.colab import drive\n",
        "drive.mount('/content/drive')"
      ],
      "metadata": {
        "colab": {
          "base_uri": "https://localhost:8080/"
        },
        "id": "EDntpOcvLfMJ",
        "outputId": "6a4ec42c-2534-46c6-c8bb-6fe34994260a"
      },
      "execution_count": null,
      "outputs": [
        {
          "output_type": "stream",
          "name": "stdout",
          "text": [
            "Drive already mounted at /content/drive; to attempt to forcibly remount, call drive.mount(\"/content/drive\", force_remount=True).\n"
          ]
        }
      ]
    },
    {
      "cell_type": "markdown",
      "metadata": {
        "id": "JbajvUXovGK6"
      },
      "source": [
        "# Read data from csv\n",
        "\n",
        "We are going to read the train, validation and test data obtained in the preprocessing notebook."
      ]
    },
    {
      "cell_type": "code",
      "source": [
        "# Read dataframes\n",
        "train_df = pd.read_csv('/content/drive/MyDrive/UNI/tfg/dataframes/PreprocessedTrainData.csv')\n",
        "val_df = pd.read_csv('/content/drive/MyDrive/UNI/tfg/dataframes/PreprocessedValidationData.csv')\n",
        "test_df = pd.read_csv('/content/drive/MyDrive/UNI/tfg/dataframes/PreprocessedTestData.csv')\n",
        "\n",
        "df = pd.concat([train_df, val_df, test_df])\n",
        "df = df.reset_index(drop=True)"
      ],
      "metadata": {
        "id": "UKXiujO5wLKT"
      },
      "execution_count": null,
      "outputs": []
    },
    {
      "cell_type": "markdown",
      "source": [
        "# Divide data"
      ],
      "metadata": {
        "id": "xNcML_ZJbRtI"
      }
    },
    {
      "cell_type": "code",
      "source": [
        "# Train data definition\n",
        "X_train = train_df['reviews']\n",
        "y_train = train_df['ratings']\n",
        "\n",
        "# Validation data definition\n",
        "X_val = val_df['reviews']\n",
        "y_val = val_df['ratings']\n",
        "\n",
        "# Test data definition\n",
        "X_test = test_df['reviews']\n",
        "y_test = test_df['ratings']"
      ],
      "metadata": {
        "id": "IqKDem3gQssJ"
      },
      "execution_count": null,
      "outputs": []
    },
    {
      "cell_type": "markdown",
      "source": [
        "# Tokenize train and validation data"
      ],
      "metadata": {
        "id": "tiHPmREBdiKh"
      }
    },
    {
      "cell_type": "code",
      "source": [
        "from tensorflow.keras.preprocessing.text import Tokenizer\n",
        "from tensorflow.keras.preprocessing.sequence import pad_sequences\n",
        "\n",
        "max_words = 10000  # maximum number of words to tokenize\n",
        "seq_length = 256  # maximum length of each sequence\n",
        "\n",
        "tokenizer = Tokenizer(num_words=max_words, oov_token='<OOV>')\n",
        "tokenizer.fit_on_texts(df['reviews'])\n",
        "\n",
        "def tokenize_data(X_data, y_data):\n",
        "  X_data = tokenizer.texts_to_sequences(X_data)\n",
        "  X_data = pad_sequences(X_data, maxlen=seq_length)\n",
        "  y_data= tf.keras.utils.to_categorical(y_data, 3)\n",
        "\n",
        "  return X_data, y_data"
      ],
      "metadata": {
        "id": "0EitKmdmZBrO"
      },
      "execution_count": null,
      "outputs": []
    },
    {
      "cell_type": "code",
      "source": [
        "# Tokenize train data\n",
        "X_train_tokenized, y_train_encoded = tokenize_data(X_train, y_train)\n",
        "\n",
        "# Tokenize validation data\n",
        "X_val_tokenized, y_val_encoded = tokenize_data(X_val, y_val)"
      ],
      "metadata": {
        "id": "9IMod_QAQiub"
      },
      "execution_count": null,
      "outputs": []
    },
    {
      "cell_type": "markdown",
      "source": [
        "# Neural network procedure"
      ],
      "metadata": {
        "id": "RWgL2rczbU9e"
      }
    },
    {
      "cell_type": "markdown",
      "source": [
        "## Model definition"
      ],
      "metadata": {
        "id": "PRjgG4xsbXPB"
      }
    },
    {
      "cell_type": "code",
      "source": [
        "from tensorflow.keras.layers import Embedding, SpatialDropout1D, LSTM, Bidirectional, Dense\n",
        "from tensorflow.keras.models import Sequential\n",
        "\n",
        "embedding_dim = 50\n",
        "lstm_units = 64\n",
        "dense_units = 16\n",
        "\n",
        "model = Sequential()\n",
        "model.add(Embedding(max_words, embedding_dim, input_length=seq_length))\n",
        "model.add(SpatialDropout1D(0.2))\n",
        "model.add(Bidirectional(LSTM(lstm_units, dropout=0.2, recurrent_dropout=0.2)))\n",
        "model.add(Dense(dense_units, activation='relu'))\n",
        "model.add(Dense(3, activation='softmax'))\n",
        "\n",
        "model.compile(loss='categorical_crossentropy', optimizer='adam', metrics=['accuracy'])"
      ],
      "metadata": {
        "id": "ce2pv5MylPCX"
      },
      "execution_count": null,
      "outputs": []
    },
    {
      "cell_type": "code",
      "source": [
        "model.summary()"
      ],
      "metadata": {
        "colab": {
          "base_uri": "https://localhost:8080/"
        },
        "id": "49GxmmqWfjpG",
        "outputId": "cc77c53a-e125-461a-d7a6-27470448b5e0"
      },
      "execution_count": null,
      "outputs": [
        {
          "output_type": "stream",
          "name": "stdout",
          "text": [
            "Model: \"sequential_1\"\n",
            "_________________________________________________________________\n",
            " Layer (type)                Output Shape              Param #   \n",
            "=================================================================\n",
            " embedding (Embedding)       (None, 256, 50)           500000    \n",
            "                                                                 \n",
            " spatial_dropout1d (Spatial  (None, 256, 50)           0         \n",
            " Dropout1D)                                                      \n",
            "                                                                 \n",
            " bidirectional (Bidirection  (None, 128)               58880     \n",
            " al)                                                             \n",
            "                                                                 \n",
            " dense (Dense)               (None, 16)                2064      \n",
            "                                                                 \n",
            " dense_1 (Dense)             (None, 3)                 51        \n",
            "                                                                 \n",
            "=================================================================\n",
            "Total params: 560995 (2.14 MB)\n",
            "Trainable params: 560995 (2.14 MB)\n",
            "Non-trainable params: 0 (0.00 Byte)\n",
            "_________________________________________________________________\n"
          ]
        }
      ]
    },
    {
      "cell_type": "markdown",
      "source": [
        "## Training"
      ],
      "metadata": {
        "id": "fwA2VTMDcS3R"
      }
    },
    {
      "cell_type": "code",
      "source": [
        "batch_size = 64\n",
        "epochs = 5\n",
        "\n",
        "model.fit(X_train_tokenized, y_train_encoded,\n",
        "          epochs=epochs, batch_size=batch_size,\n",
        "          validation_data=(X_val_tokenized, y_val_encoded))"
      ],
      "metadata": {
        "colab": {
          "base_uri": "https://localhost:8080/"
        },
        "id": "Fm7wG03ZZBwM",
        "outputId": "573ac0f9-ece9-4e46-c066-bccf2d9819b6"
      },
      "execution_count": null,
      "outputs": [
        {
          "output_type": "stream",
          "name": "stdout",
          "text": [
            "Epoch 1/5\n",
            "1115/1115 [==============================] - 2248s 2s/step - loss: 0.5204 - accuracy: 0.7781 - val_loss: 0.4826 - val_accuracy: 0.7980\n",
            "Epoch 2/5\n",
            "1115/1115 [==============================] - 2193s 2s/step - loss: 0.4203 - accuracy: 0.8242 - val_loss: 0.4839 - val_accuracy: 0.8041\n",
            "Epoch 3/5\n",
            "1115/1115 [==============================] - 2192s 2s/step - loss: 0.3651 - accuracy: 0.8546 - val_loss: 0.4754 - val_accuracy: 0.8154\n",
            "Epoch 4/5\n",
            "1115/1115 [==============================] - 2186s 2s/step - loss: 0.3255 - accuracy: 0.8737 - val_loss: 0.4835 - val_accuracy: 0.8123\n",
            "Epoch 5/5\n",
            "1115/1115 [==============================] - 2189s 2s/step - loss: 0.2954 - accuracy: 0.8876 - val_loss: 0.5213 - val_accuracy: 0.8097\n"
          ]
        },
        {
          "output_type": "execute_result",
          "data": {
            "text/plain": [
              "<keras.src.callbacks.History at 0x7df131237340>"
            ]
          },
          "metadata": {},
          "execution_count": 12
        }
      ]
    },
    {
      "cell_type": "markdown",
      "source": [
        "## Save the model"
      ],
      "metadata": {
        "id": "CACfUw-dmfa3"
      }
    },
    {
      "cell_type": "code",
      "source": [
        "#model.save(\"/content/drive/MyDrive/UNI/tfg/models/neural_network/neural_network\")"
      ],
      "metadata": {
        "id": "6_Bqk25vmfj_"
      },
      "execution_count": null,
      "outputs": []
    },
    {
      "cell_type": "markdown",
      "source": [
        "# Use the trained neural network"
      ],
      "metadata": {
        "id": "YsSx5-ancWW6"
      }
    },
    {
      "cell_type": "markdown",
      "source": [
        "## Tokenize test data"
      ],
      "metadata": {
        "id": "avlhC8uCdJ1g"
      }
    },
    {
      "cell_type": "code",
      "source": [
        "X_test_tokenized, y_test_encoded = tokenize_data(X_test, y_test)"
      ],
      "metadata": {
        "id": "mQ07CimbdBjh"
      },
      "execution_count": null,
      "outputs": []
    },
    {
      "cell_type": "markdown",
      "source": [
        "## Predict test data"
      ],
      "metadata": {
        "id": "fngTPZ9vRkkv"
      }
    },
    {
      "cell_type": "code",
      "source": [
        "predicted_probs = model.predict(X_test_tokenized)\n",
        "predicted_probs = [[round(prob, 4) for prob in pred] for pred in predicted_probs]\n",
        "predicted_ratings = [np.argmax(pred) for pred in predicted_probs]\n",
        "\n",
        "print(predicted_probs[0])\n",
        "print(y_test[0], predicted_ratings[0])"
      ],
      "metadata": {
        "colab": {
          "base_uri": "https://localhost:8080/"
        },
        "id": "FbD_M2JEZPNX",
        "outputId": "236f9869-82a4-4183-8cf8-c76c9e7c9044"
      },
      "execution_count": null,
      "outputs": [
        {
          "output_type": "stream",
          "name": "stdout",
          "text": [
            "585/585 [==============================] - 93s 158ms/step\n",
            "[0.0143, 0.1195, 0.8662]\n",
            "1 2\n"
          ]
        }
      ]
    },
    {
      "cell_type": "markdown",
      "source": [
        "## Save the results into a DataFrame"
      ],
      "metadata": {
        "id": "4vZY9SJgRfvl"
      }
    },
    {
      "cell_type": "code",
      "source": [
        "data = {\n",
        "    'reviews': X_test,\n",
        "    'ratings': y_test,\n",
        "    'predicted_ratings': predicted_ratings,\n",
        "    'predicted_probs': predicted_probs\n",
        "}\n",
        "\n",
        "results_df = pd.DataFrame(data)"
      ],
      "metadata": {
        "id": "-wxpwja4dBhX"
      },
      "execution_count": null,
      "outputs": []
    },
    {
      "cell_type": "code",
      "source": [
        "results_df.head()"
      ],
      "metadata": {
        "colab": {
          "base_uri": "https://localhost:8080/",
          "height": 206
        },
        "id": "0l6q7zabPuNY",
        "outputId": "48d13abe-8506-4615-845a-4c9f70827f09"
      },
      "execution_count": null,
      "outputs": [
        {
          "output_type": "execute_result",
          "data": {
            "text/plain": [
              "                                             reviews  ratings  \\\n",
              "0  visit disneyland many time 60 hard enjoy park ...        1   \n",
              "1  back soon 5 day 72 mile walk 3 pound lose wait...        2   \n",
              "2  go see harry potter world amazing fan unbeliev...        2   \n",
              "3  mean love disneylandbut unfortunately major ri...        2   \n",
              "4  visit park 5 year ago excite rein act awesome ...        2   \n",
              "\n",
              "   predicted_ratings           predicted_probs  \n",
              "0                  2  [0.0143, 0.1195, 0.8662]  \n",
              "1                  2  [0.0056, 0.0155, 0.9789]  \n",
              "2                  2   [0.0007, 0.009, 0.9903]  \n",
              "3                  2  [0.0071, 0.1601, 0.8328]  \n",
              "4                  2  [0.0003, 0.0134, 0.9862]  "
            ],
            "text/html": [
              "\n",
              "  <div id=\"df-76792ef5-d157-457c-8587-09b623ccc92c\" class=\"colab-df-container\">\n",
              "    <div>\n",
              "<style scoped>\n",
              "    .dataframe tbody tr th:only-of-type {\n",
              "        vertical-align: middle;\n",
              "    }\n",
              "\n",
              "    .dataframe tbody tr th {\n",
              "        vertical-align: top;\n",
              "    }\n",
              "\n",
              "    .dataframe thead th {\n",
              "        text-align: right;\n",
              "    }\n",
              "</style>\n",
              "<table border=\"1\" class=\"dataframe\">\n",
              "  <thead>\n",
              "    <tr style=\"text-align: right;\">\n",
              "      <th></th>\n",
              "      <th>reviews</th>\n",
              "      <th>ratings</th>\n",
              "      <th>predicted_ratings</th>\n",
              "      <th>predicted_probs</th>\n",
              "    </tr>\n",
              "  </thead>\n",
              "  <tbody>\n",
              "    <tr>\n",
              "      <th>0</th>\n",
              "      <td>visit disneyland many time 60 hard enjoy park ...</td>\n",
              "      <td>1</td>\n",
              "      <td>2</td>\n",
              "      <td>[0.0143, 0.1195, 0.8662]</td>\n",
              "    </tr>\n",
              "    <tr>\n",
              "      <th>1</th>\n",
              "      <td>back soon 5 day 72 mile walk 3 pound lose wait...</td>\n",
              "      <td>2</td>\n",
              "      <td>2</td>\n",
              "      <td>[0.0056, 0.0155, 0.9789]</td>\n",
              "    </tr>\n",
              "    <tr>\n",
              "      <th>2</th>\n",
              "      <td>go see harry potter world amazing fan unbeliev...</td>\n",
              "      <td>2</td>\n",
              "      <td>2</td>\n",
              "      <td>[0.0007, 0.009, 0.9903]</td>\n",
              "    </tr>\n",
              "    <tr>\n",
              "      <th>3</th>\n",
              "      <td>mean love disneylandbut unfortunately major ri...</td>\n",
              "      <td>2</td>\n",
              "      <td>2</td>\n",
              "      <td>[0.0071, 0.1601, 0.8328]</td>\n",
              "    </tr>\n",
              "    <tr>\n",
              "      <th>4</th>\n",
              "      <td>visit park 5 year ago excite rein act awesome ...</td>\n",
              "      <td>2</td>\n",
              "      <td>2</td>\n",
              "      <td>[0.0003, 0.0134, 0.9862]</td>\n",
              "    </tr>\n",
              "  </tbody>\n",
              "</table>\n",
              "</div>\n",
              "    <div class=\"colab-df-buttons\">\n",
              "\n",
              "  <div class=\"colab-df-container\">\n",
              "    <button class=\"colab-df-convert\" onclick=\"convertToInteractive('df-76792ef5-d157-457c-8587-09b623ccc92c')\"\n",
              "            title=\"Convert this dataframe to an interactive table.\"\n",
              "            style=\"display:none;\">\n",
              "\n",
              "  <svg xmlns=\"http://www.w3.org/2000/svg\" height=\"24px\" viewBox=\"0 -960 960 960\">\n",
              "    <path d=\"M120-120v-720h720v720H120Zm60-500h600v-160H180v160Zm220 220h160v-160H400v160Zm0 220h160v-160H400v160ZM180-400h160v-160H180v160Zm440 0h160v-160H620v160ZM180-180h160v-160H180v160Zm440 0h160v-160H620v160Z\"/>\n",
              "  </svg>\n",
              "    </button>\n",
              "\n",
              "  <style>\n",
              "    .colab-df-container {\n",
              "      display:flex;\n",
              "      gap: 12px;\n",
              "    }\n",
              "\n",
              "    .colab-df-convert {\n",
              "      background-color: #E8F0FE;\n",
              "      border: none;\n",
              "      border-radius: 50%;\n",
              "      cursor: pointer;\n",
              "      display: none;\n",
              "      fill: #1967D2;\n",
              "      height: 32px;\n",
              "      padding: 0 0 0 0;\n",
              "      width: 32px;\n",
              "    }\n",
              "\n",
              "    .colab-df-convert:hover {\n",
              "      background-color: #E2EBFA;\n",
              "      box-shadow: 0px 1px 2px rgba(60, 64, 67, 0.3), 0px 1px 3px 1px rgba(60, 64, 67, 0.15);\n",
              "      fill: #174EA6;\n",
              "    }\n",
              "\n",
              "    .colab-df-buttons div {\n",
              "      margin-bottom: 4px;\n",
              "    }\n",
              "\n",
              "    [theme=dark] .colab-df-convert {\n",
              "      background-color: #3B4455;\n",
              "      fill: #D2E3FC;\n",
              "    }\n",
              "\n",
              "    [theme=dark] .colab-df-convert:hover {\n",
              "      background-color: #434B5C;\n",
              "      box-shadow: 0px 1px 3px 1px rgba(0, 0, 0, 0.15);\n",
              "      filter: drop-shadow(0px 1px 2px rgba(0, 0, 0, 0.3));\n",
              "      fill: #FFFFFF;\n",
              "    }\n",
              "  </style>\n",
              "\n",
              "    <script>\n",
              "      const buttonEl =\n",
              "        document.querySelector('#df-76792ef5-d157-457c-8587-09b623ccc92c button.colab-df-convert');\n",
              "      buttonEl.style.display =\n",
              "        google.colab.kernel.accessAllowed ? 'block' : 'none';\n",
              "\n",
              "      async function convertToInteractive(key) {\n",
              "        const element = document.querySelector('#df-76792ef5-d157-457c-8587-09b623ccc92c');\n",
              "        const dataTable =\n",
              "          await google.colab.kernel.invokeFunction('convertToInteractive',\n",
              "                                                    [key], {});\n",
              "        if (!dataTable) return;\n",
              "\n",
              "        const docLinkHtml = 'Like what you see? Visit the ' +\n",
              "          '<a target=\"_blank\" href=https://colab.research.google.com/notebooks/data_table.ipynb>data table notebook</a>'\n",
              "          + ' to learn more about interactive tables.';\n",
              "        element.innerHTML = '';\n",
              "        dataTable['output_type'] = 'display_data';\n",
              "        await google.colab.output.renderOutput(dataTable, element);\n",
              "        const docLink = document.createElement('div');\n",
              "        docLink.innerHTML = docLinkHtml;\n",
              "        element.appendChild(docLink);\n",
              "      }\n",
              "    </script>\n",
              "  </div>\n",
              "\n",
              "\n",
              "<div id=\"df-559ea4b5-f7ba-4014-9cbb-0c1a3b64c30f\">\n",
              "  <button class=\"colab-df-quickchart\" onclick=\"quickchart('df-559ea4b5-f7ba-4014-9cbb-0c1a3b64c30f')\"\n",
              "            title=\"Suggest charts\"\n",
              "            style=\"display:none;\">\n",
              "\n",
              "<svg xmlns=\"http://www.w3.org/2000/svg\" height=\"24px\"viewBox=\"0 0 24 24\"\n",
              "     width=\"24px\">\n",
              "    <g>\n",
              "        <path d=\"M19 3H5c-1.1 0-2 .9-2 2v14c0 1.1.9 2 2 2h14c1.1 0 2-.9 2-2V5c0-1.1-.9-2-2-2zM9 17H7v-7h2v7zm4 0h-2V7h2v10zm4 0h-2v-4h2v4z\"/>\n",
              "    </g>\n",
              "</svg>\n",
              "  </button>\n",
              "\n",
              "<style>\n",
              "  .colab-df-quickchart {\n",
              "      --bg-color: #E8F0FE;\n",
              "      --fill-color: #1967D2;\n",
              "      --hover-bg-color: #E2EBFA;\n",
              "      --hover-fill-color: #174EA6;\n",
              "      --disabled-fill-color: #AAA;\n",
              "      --disabled-bg-color: #DDD;\n",
              "  }\n",
              "\n",
              "  [theme=dark] .colab-df-quickchart {\n",
              "      --bg-color: #3B4455;\n",
              "      --fill-color: #D2E3FC;\n",
              "      --hover-bg-color: #434B5C;\n",
              "      --hover-fill-color: #FFFFFF;\n",
              "      --disabled-bg-color: #3B4455;\n",
              "      --disabled-fill-color: #666;\n",
              "  }\n",
              "\n",
              "  .colab-df-quickchart {\n",
              "    background-color: var(--bg-color);\n",
              "    border: none;\n",
              "    border-radius: 50%;\n",
              "    cursor: pointer;\n",
              "    display: none;\n",
              "    fill: var(--fill-color);\n",
              "    height: 32px;\n",
              "    padding: 0;\n",
              "    width: 32px;\n",
              "  }\n",
              "\n",
              "  .colab-df-quickchart:hover {\n",
              "    background-color: var(--hover-bg-color);\n",
              "    box-shadow: 0 1px 2px rgba(60, 64, 67, 0.3), 0 1px 3px 1px rgba(60, 64, 67, 0.15);\n",
              "    fill: var(--button-hover-fill-color);\n",
              "  }\n",
              "\n",
              "  .colab-df-quickchart-complete:disabled,\n",
              "  .colab-df-quickchart-complete:disabled:hover {\n",
              "    background-color: var(--disabled-bg-color);\n",
              "    fill: var(--disabled-fill-color);\n",
              "    box-shadow: none;\n",
              "  }\n",
              "\n",
              "  .colab-df-spinner {\n",
              "    border: 2px solid var(--fill-color);\n",
              "    border-color: transparent;\n",
              "    border-bottom-color: var(--fill-color);\n",
              "    animation:\n",
              "      spin 1s steps(1) infinite;\n",
              "  }\n",
              "\n",
              "  @keyframes spin {\n",
              "    0% {\n",
              "      border-color: transparent;\n",
              "      border-bottom-color: var(--fill-color);\n",
              "      border-left-color: var(--fill-color);\n",
              "    }\n",
              "    20% {\n",
              "      border-color: transparent;\n",
              "      border-left-color: var(--fill-color);\n",
              "      border-top-color: var(--fill-color);\n",
              "    }\n",
              "    30% {\n",
              "      border-color: transparent;\n",
              "      border-left-color: var(--fill-color);\n",
              "      border-top-color: var(--fill-color);\n",
              "      border-right-color: var(--fill-color);\n",
              "    }\n",
              "    40% {\n",
              "      border-color: transparent;\n",
              "      border-right-color: var(--fill-color);\n",
              "      border-top-color: var(--fill-color);\n",
              "    }\n",
              "    60% {\n",
              "      border-color: transparent;\n",
              "      border-right-color: var(--fill-color);\n",
              "    }\n",
              "    80% {\n",
              "      border-color: transparent;\n",
              "      border-right-color: var(--fill-color);\n",
              "      border-bottom-color: var(--fill-color);\n",
              "    }\n",
              "    90% {\n",
              "      border-color: transparent;\n",
              "      border-bottom-color: var(--fill-color);\n",
              "    }\n",
              "  }\n",
              "</style>\n",
              "\n",
              "  <script>\n",
              "    async function quickchart(key) {\n",
              "      const quickchartButtonEl =\n",
              "        document.querySelector('#' + key + ' button');\n",
              "      quickchartButtonEl.disabled = true;  // To prevent multiple clicks.\n",
              "      quickchartButtonEl.classList.add('colab-df-spinner');\n",
              "      try {\n",
              "        const charts = await google.colab.kernel.invokeFunction(\n",
              "            'suggestCharts', [key], {});\n",
              "      } catch (error) {\n",
              "        console.error('Error during call to suggestCharts:', error);\n",
              "      }\n",
              "      quickchartButtonEl.classList.remove('colab-df-spinner');\n",
              "      quickchartButtonEl.classList.add('colab-df-quickchart-complete');\n",
              "    }\n",
              "    (() => {\n",
              "      let quickchartButtonEl =\n",
              "        document.querySelector('#df-559ea4b5-f7ba-4014-9cbb-0c1a3b64c30f button');\n",
              "      quickchartButtonEl.style.display =\n",
              "        google.colab.kernel.accessAllowed ? 'block' : 'none';\n",
              "    })();\n",
              "  </script>\n",
              "</div>\n",
              "    </div>\n",
              "  </div>\n"
            ]
          },
          "metadata": {},
          "execution_count": 16
        }
      ]
    },
    {
      "cell_type": "code",
      "source": [
        "results_df.to_csv('/content/drive/MyDrive/UNI/tfg/dataframes/NeuralNetworkData.csv', index=False)"
      ],
      "metadata": {
        "id": "QCnv74SzPuPu"
      },
      "execution_count": null,
      "outputs": []
    },
    {
      "cell_type": "markdown",
      "source": [
        "## Read results from csv (if needed)"
      ],
      "metadata": {
        "id": "AOLvXHaiZ_VA"
      }
    },
    {
      "cell_type": "code",
      "source": [
        "results_df = pd.read_csv('/content/drive/MyDrive/UNI/tfg/dataframes/NeuralNetworkData.csv')\n",
        "true_labels = results_df['ratings']\n",
        "predicted_labels = results_df['predicted_ratings']\n",
        "predicted_probs = results_df['predicted_probs']"
      ],
      "metadata": {
        "id": "lNxZBxraZ_ce"
      },
      "execution_count": null,
      "outputs": []
    },
    {
      "cell_type": "markdown",
      "source": [
        "# Model evaluation\n",
        "\n",
        "We will separate our data into 3 classes from the ratings we have:\n",
        "- Negative (ratings with 1/2 stars)\n",
        "- Neutral (ratings with 3 stars)\n",
        "- Positve (ratings with 4/5 stars)"
      ],
      "metadata": {
        "id": "2ogHrbeDaFII"
      }
    },
    {
      "cell_type": "markdown",
      "source": [
        "### Accuracy"
      ],
      "metadata": {
        "id": "KeTqfAPDaJKo"
      }
    },
    {
      "cell_type": "code",
      "source": [
        "from sklearn.metrics import accuracy_score\n",
        "\n",
        "accuracy = accuracy_score(true_labels, predicted_labels)\n",
        "print(f\"Accuracy: {accuracy:.2f}\")"
      ],
      "metadata": {
        "colab": {
          "base_uri": "https://localhost:8080/"
        },
        "id": "clySHJhAaFYd",
        "outputId": "658687b1-e793-405f-b644-1586072476b7"
      },
      "execution_count": null,
      "outputs": [
        {
          "output_type": "stream",
          "name": "stdout",
          "text": [
            "Accuracy: 0.85\n"
          ]
        }
      ]
    },
    {
      "cell_type": "markdown",
      "source": [
        "### Confusion matrix"
      ],
      "metadata": {
        "id": "tn-4mpcFaLEz"
      }
    },
    {
      "cell_type": "code",
      "source": [
        "from sklearn.metrics import confusion_matrix\n",
        "\n",
        "conf_matrix = confusion_matrix(true_labels, predicted_labels)\n",
        "conf_matrix_df = pd.DataFrame(conf_matrix,\n",
        "                              index = [\"Negative\", \"Neutral\", \"Positive\"],\n",
        "                              columns = [\"Negative\", \"Neutral\", \"Positive\"])\n",
        "\n",
        "plt.figure(figsize=(5,5))\n",
        "sns.heatmap(conf_matrix_df, cmap='Blues', annot=True, fmt='g')\n",
        "plt.title(\"Confusion matrix\")\n",
        "plt.ylabel(\"Actual values\")\n",
        "plt.xlabel(\"Predicted values\")\n",
        "plt.show()"
      ],
      "metadata": {
        "colab": {
          "base_uri": "https://localhost:8080/",
          "height": 487
        },
        "id": "asFJ-j2yj8CG",
        "outputId": "863138eb-8cdb-4c14-b126-e2772fb4661d"
      },
      "execution_count": null,
      "outputs": [
        {
          "output_type": "display_data",
          "data": {
            "text/plain": [
              "<Figure size 500x500 with 2 Axes>"
            ],
            "image/png": "[encoded data removed]"
          },
          "metadata": {}
        }
      ]
    },
    {
      "cell_type": "markdown",
      "source": [
        "### Receiver Operating Characteristic (ROC) Curve"
      ],
      "metadata": {
        "id": "NG8HjWy_aLUJ"
      }
    },
    {
      "cell_type": "code",
      "source": [
        "from sklearn.preprocessing import label_binarize\n",
        "from sklearn.metrics import roc_curve, auc\n",
        "import matplotlib.pyplot as plt\n",
        "\n",
        "# Convert true and predicted labels to binary format for each class\n",
        "true_labels_bin = label_binarize(true_labels, classes=[0, 1, 2])\n",
        "predicted_labels_bin = label_binarize(predicted_labels, classes=[0, 1, 2])\n",
        "\n",
        "fpr = dict()  # False positive rate\n",
        "tpr = dict()  # True positive rate\n",
        "roc_auc = dict()\n",
        "\n",
        "for i in range(3):\n",
        "    fpr[i], tpr[i], _ = roc_curve(true_labels_bin[:, i], predicted_labels_bin[:, i])\n",
        "    roc_auc[i] = auc(fpr[i], tpr[i])\n",
        "\n",
        "# Plot ROC curve\n",
        "plt.figure(figsize=(5, 5))\n",
        "\n",
        "for i in range(3):\n",
        "    plt.plot(fpr[i], tpr[i], label=f\"ROC curve (class {i}), AUC = {roc_auc[i]:.2f}\")\n",
        "\n",
        "plt.plot([0, 1], [0, 1], 'k--')  # Plot diagonal line\n",
        "plt.xlabel(\"False Positive Rate\")\n",
        "plt.ylabel(\"True Positive Rate\")\n",
        "plt.title(\"Receiver Operating Characteristic (ROC) Curve\")\n",
        "plt.legend(loc='best')\n",
        "plt.show()\n",
        "\n",
        "# Calculate the overall AUC by averaging the AUCs of individual classes\n",
        "overall_auc = sum(roc_auc.values()) / len(roc_auc)\n",
        "print(f\"\\nOverall AUC: {overall_auc:.2f}\")"
      ],
      "metadata": {
        "colab": {
          "base_uri": "https://localhost:8080/",
          "height": 522
        },
        "id": "FmLolOqaaLbs",
        "outputId": "3f62a3d6-732b-4a8b-ed23-15c54ea11149"
      },
      "execution_count": null,
      "outputs": [
        {
          "output_type": "display_data",
          "data": {
            "text/plain": [
              "<Figure size 500x500 with 1 Axes>"
            ],
            "image/png": "[encoded data removed]"
          },
          "metadata": {}
        },
        {
          "output_type": "stream",
          "name": "stdout",
          "text": [
            "\n",
            "Overall AUC: 0.72\n"
          ]
        }
      ]
    },
    {
      "cell_type": "markdown",
      "source": [
        "### Precision, Recall and F1-score"
      ],
      "metadata": {
        "id": "c4M3IcjKaT-k"
      }
    },
    {
      "cell_type": "code",
      "source": [
        "from sklearn.metrics import classification_report\n",
        "\n",
        "class_report = classification_report(true_labels, predicted_labels, target_names=[\"Negative\", \"Neutral\", \"Positive\"])\n",
        "print(class_report)"
      ],
      "metadata": {
        "colab": {
          "base_uri": "https://localhost:8080/"
        },
        "id": "gsINAD6QaUED",
        "outputId": "23c2d1e1-8368-47aa-8e36-e2458fd42413"
      },
      "execution_count": null,
      "outputs": [
        {
          "output_type": "stream",
          "name": "stdout",
          "text": [
            "              precision    recall  f1-score   support\n",
            "\n",
            "    Negative       0.62      0.56      0.59      1517\n",
            "     Neutral       0.41      0.28      0.34      2068\n",
            "    Positive       0.91      0.96      0.93     15123\n",
            "\n",
            "    accuracy                           0.85     18708\n",
            "   macro avg       0.65      0.60      0.62     18708\n",
            "weighted avg       0.83      0.85      0.84     18708\n",
            "\n"
          ]
        }
      ]
    }
  ],
  "metadata": {
    "accelerator": "GPU",
    "colab": {
      "provenance": [],
      "gpuType": "T4"
    },
    "kernelspec": {
      "display_name": "Python 3",
      "name": "python3"
    },
    "language_info": {
      "name": "python"
    }
  },
  "nbformat": 4,
  "nbformat_minor": 0
}