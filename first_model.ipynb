{
  "cells": [
    {
      "cell_type": "markdown",
      "metadata": {
        "id": "FwTxK5uq1ELj"
      },
      "source": [
        "**Author**: Victor Teixidó López"
      ]
    },
    {
      "cell_type": "code",
      "execution_count": 21,
      "metadata": {
        "id": "qEoqDu-4XVPP"
      },
      "outputs": [],
      "source": [
        "!pip install -q transformers\n",
        "!pip install -q torchvision"
      ]
    },
    {
      "cell_type": "code",
      "execution_count": 22,
      "metadata": {
        "id": "PmMvMHYAXZmn"
      },
      "outputs": [],
      "source": [
        "import numpy as np\n",
        "import pandas as pd\n",
        "import matplotlib.pyplot as plt\n",
        "import nltk\n",
        "\n",
        "import torch\n",
        "\n",
        "from matplotlib.pyplot import plot"
      ]
    },
    {
      "cell_type": "code",
      "source": [
        "import torch\n",
        "import gc\n",
        "\n",
        "device = 'cuda'\n",
        "\n",
        "gc.collect()\n",
        "torch.cuda.empty_cache()"
      ],
      "metadata": {
        "id": "44whC4K_09-L"
      },
      "execution_count": 23,
      "outputs": []
    },
    {
      "cell_type": "markdown",
      "source": [],
      "metadata": {
        "id": "JbajvUXovGK6"
      }
    },
    {
      "cell_type": "code",
      "source": [
        "df = pd.read_csv('/content/drive/MyDrive/UNI/tfg/preprocessed_data.csv')\n",
        "df.head()"
      ],
      "metadata": {
        "colab": {
          "base_uri": "https://localhost:8080/",
          "height": 206
        },
        "id": "N9x6XFhcvGR3",
        "outputId": "74cfe26f-9064-46d5-a7fd-43bced654442"
      },
      "execution_count": 24,
      "outputs": [
        {
          "output_type": "execute_result",
          "data": {
            "text/plain": [
              "   ratings                                            reviews\n",
              "0        4  ever disneyland anywhere find disneyland hong ...\n",
              "1        4  since last time visit hk disneyland yet time s...\n",
              "2        4  thanks god hot humid visit park otherwise woul...\n",
              "3        4  hk disneyland great compact park unfortunately...\n",
              "4        4  location city take around 1 hour kowlon kid li..."
            ],
            "text/html": [
              "\n",
              "  <div id=\"df-210b04bc-57e9-4102-adb0-f4ea3bb4ce9f\" class=\"colab-df-container\">\n",
              "    <div>\n",
              "<style scoped>\n",
              "    .dataframe tbody tr th:only-of-type {\n",
              "        vertical-align: middle;\n",
              "    }\n",
              "\n",
              "    .dataframe tbody tr th {\n",
              "        vertical-align: top;\n",
              "    }\n",
              "\n",
              "    .dataframe thead th {\n",
              "        text-align: right;\n",
              "    }\n",
              "</style>\n",
              "<table border=\"1\" class=\"dataframe\">\n",
              "  <thead>\n",
              "    <tr style=\"text-align: right;\">\n",
              "      <th></th>\n",
              "      <th>ratings</th>\n",
              "      <th>reviews</th>\n",
              "    </tr>\n",
              "  </thead>\n",
              "  <tbody>\n",
              "    <tr>\n",
              "      <th>0</th>\n",
              "      <td>4</td>\n",
              "      <td>ever disneyland anywhere find disneyland hong ...</td>\n",
              "    </tr>\n",
              "    <tr>\n",
              "      <th>1</th>\n",
              "      <td>4</td>\n",
              "      <td>since last time visit hk disneyland yet time s...</td>\n",
              "    </tr>\n",
              "    <tr>\n",
              "      <th>2</th>\n",
              "      <td>4</td>\n",
              "      <td>thanks god hot humid visit park otherwise woul...</td>\n",
              "    </tr>\n",
              "    <tr>\n",
              "      <th>3</th>\n",
              "      <td>4</td>\n",
              "      <td>hk disneyland great compact park unfortunately...</td>\n",
              "    </tr>\n",
              "    <tr>\n",
              "      <th>4</th>\n",
              "      <td>4</td>\n",
              "      <td>location city take around 1 hour kowlon kid li...</td>\n",
              "    </tr>\n",
              "  </tbody>\n",
              "</table>\n",
              "</div>\n",
              "    <div class=\"colab-df-buttons\">\n",
              "\n",
              "  <div class=\"colab-df-container\">\n",
              "    <button class=\"colab-df-convert\" onclick=\"convertToInteractive('df-210b04bc-57e9-4102-adb0-f4ea3bb4ce9f')\"\n",
              "            title=\"Convert this dataframe to an interactive table.\"\n",
              "            style=\"display:none;\">\n",
              "\n",
              "  <svg xmlns=\"http://www.w3.org/2000/svg\" height=\"24px\" viewBox=\"0 -960 960 960\">\n",
              "    <path d=\"M120-120v-720h720v720H120Zm60-500h600v-160H180v160Zm220 220h160v-160H400v160Zm0 220h160v-160H400v160ZM180-400h160v-160H180v160Zm440 0h160v-160H620v160ZM180-180h160v-160H180v160Zm440 0h160v-160H620v160Z\"/>\n",
              "  </svg>\n",
              "    </button>\n",
              "\n",
              "  <style>\n",
              "    .colab-df-container {\n",
              "      display:flex;\n",
              "      gap: 12px;\n",
              "    }\n",
              "\n",
              "    .colab-df-convert {\n",
              "      background-color: #E8F0FE;\n",
              "      border: none;\n",
              "      border-radius: 50%;\n",
              "      cursor: pointer;\n",
              "      display: none;\n",
              "      fill: #1967D2;\n",
              "      height: 32px;\n",
              "      padding: 0 0 0 0;\n",
              "      width: 32px;\n",
              "    }\n",
              "\n",
              "    .colab-df-convert:hover {\n",
              "      background-color: #E2EBFA;\n",
              "      box-shadow: 0px 1px 2px rgba(60, 64, 67, 0.3), 0px 1px 3px 1px rgba(60, 64, 67, 0.15);\n",
              "      fill: #174EA6;\n",
              "    }\n",
              "\n",
              "    .colab-df-buttons div {\n",
              "      margin-bottom: 4px;\n",
              "    }\n",
              "\n",
              "    [theme=dark] .colab-df-convert {\n",
              "      background-color: #3B4455;\n",
              "      fill: #D2E3FC;\n",
              "    }\n",
              "\n",
              "    [theme=dark] .colab-df-convert:hover {\n",
              "      background-color: #434B5C;\n",
              "      box-shadow: 0px 1px 3px 1px rgba(0, 0, 0, 0.15);\n",
              "      filter: drop-shadow(0px 1px 2px rgba(0, 0, 0, 0.3));\n",
              "      fill: #FFFFFF;\n",
              "    }\n",
              "  </style>\n",
              "\n",
              "    <script>\n",
              "      const buttonEl =\n",
              "        document.querySelector('#df-210b04bc-57e9-4102-adb0-f4ea3bb4ce9f button.colab-df-convert');\n",
              "      buttonEl.style.display =\n",
              "        google.colab.kernel.accessAllowed ? 'block' : 'none';\n",
              "\n",
              "      async function convertToInteractive(key) {\n",
              "        const element = document.querySelector('#df-210b04bc-57e9-4102-adb0-f4ea3bb4ce9f');\n",
              "        const dataTable =\n",
              "          await google.colab.kernel.invokeFunction('convertToInteractive',\n",
              "                                                    [key], {});\n",
              "        if (!dataTable) return;\n",
              "\n",
              "        const docLinkHtml = 'Like what you see? Visit the ' +\n",
              "          '<a target=\"_blank\" href=https://colab.research.google.com/notebooks/data_table.ipynb>data table notebook</a>'\n",
              "          + ' to learn more about interactive tables.';\n",
              "        element.innerHTML = '';\n",
              "        dataTable['output_type'] = 'display_data';\n",
              "        await google.colab.output.renderOutput(dataTable, element);\n",
              "        const docLink = document.createElement('div');\n",
              "        docLink.innerHTML = docLinkHtml;\n",
              "        element.appendChild(docLink);\n",
              "      }\n",
              "    </script>\n",
              "  </div>\n",
              "\n",
              "\n",
              "<div id=\"df-341b3294-40a0-4c06-8b8b-782fdf52e1b5\">\n",
              "  <button class=\"colab-df-quickchart\" onclick=\"quickchart('df-341b3294-40a0-4c06-8b8b-782fdf52e1b5')\"\n",
              "            title=\"Suggest charts\"\n",
              "            style=\"display:none;\">\n",
              "\n",
              "<svg xmlns=\"http://www.w3.org/2000/svg\" height=\"24px\"viewBox=\"0 0 24 24\"\n",
              "     width=\"24px\">\n",
              "    <g>\n",
              "        <path d=\"M19 3H5c-1.1 0-2 .9-2 2v14c0 1.1.9 2 2 2h14c1.1 0 2-.9 2-2V5c0-1.1-.9-2-2-2zM9 17H7v-7h2v7zm4 0h-2V7h2v10zm4 0h-2v-4h2v4z\"/>\n",
              "    </g>\n",
              "</svg>\n",
              "  </button>\n",
              "\n",
              "<style>\n",
              "  .colab-df-quickchart {\n",
              "      --bg-color: #E8F0FE;\n",
              "      --fill-color: #1967D2;\n",
              "      --hover-bg-color: #E2EBFA;\n",
              "      --hover-fill-color: #174EA6;\n",
              "      --disabled-fill-color: #AAA;\n",
              "      --disabled-bg-color: #DDD;\n",
              "  }\n",
              "\n",
              "  [theme=dark] .colab-df-quickchart {\n",
              "      --bg-color: #3B4455;\n",
              "      --fill-color: #D2E3FC;\n",
              "      --hover-bg-color: #434B5C;\n",
              "      --hover-fill-color: #FFFFFF;\n",
              "      --disabled-bg-color: #3B4455;\n",
              "      --disabled-fill-color: #666;\n",
              "  }\n",
              "\n",
              "  .colab-df-quickchart {\n",
              "    background-color: var(--bg-color);\n",
              "    border: none;\n",
              "    border-radius: 50%;\n",
              "    cursor: pointer;\n",
              "    display: none;\n",
              "    fill: var(--fill-color);\n",
              "    height: 32px;\n",
              "    padding: 0;\n",
              "    width: 32px;\n",
              "  }\n",
              "\n",
              "  .colab-df-quickchart:hover {\n",
              "    background-color: var(--hover-bg-color);\n",
              "    box-shadow: 0 1px 2px rgba(60, 64, 67, 0.3), 0 1px 3px 1px rgba(60, 64, 67, 0.15);\n",
              "    fill: var(--button-hover-fill-color);\n",
              "  }\n",
              "\n",
              "  .colab-df-quickchart-complete:disabled,\n",
              "  .colab-df-quickchart-complete:disabled:hover {\n",
              "    background-color: var(--disabled-bg-color);\n",
              "    fill: var(--disabled-fill-color);\n",
              "    box-shadow: none;\n",
              "  }\n",
              "\n",
              "  .colab-df-spinner {\n",
              "    border: 2px solid var(--fill-color);\n",
              "    border-color: transparent;\n",
              "    border-bottom-color: var(--fill-color);\n",
              "    animation:\n",
              "      spin 1s steps(1) infinite;\n",
              "  }\n",
              "\n",
              "  @keyframes spin {\n",
              "    0% {\n",
              "      border-color: transparent;\n",
              "      border-bottom-color: var(--fill-color);\n",
              "      border-left-color: var(--fill-color);\n",
              "    }\n",
              "    20% {\n",
              "      border-color: transparent;\n",
              "      border-left-color: var(--fill-color);\n",
              "      border-top-color: var(--fill-color);\n",
              "    }\n",
              "    30% {\n",
              "      border-color: transparent;\n",
              "      border-left-color: var(--fill-color);\n",
              "      border-top-color: var(--fill-color);\n",
              "      border-right-color: var(--fill-color);\n",
              "    }\n",
              "    40% {\n",
              "      border-color: transparent;\n",
              "      border-right-color: var(--fill-color);\n",
              "      border-top-color: var(--fill-color);\n",
              "    }\n",
              "    60% {\n",
              "      border-color: transparent;\n",
              "      border-right-color: var(--fill-color);\n",
              "    }\n",
              "    80% {\n",
              "      border-color: transparent;\n",
              "      border-right-color: var(--fill-color);\n",
              "      border-bottom-color: var(--fill-color);\n",
              "    }\n",
              "    90% {\n",
              "      border-color: transparent;\n",
              "      border-bottom-color: var(--fill-color);\n",
              "    }\n",
              "  }\n",
              "</style>\n",
              "\n",
              "  <script>\n",
              "    async function quickchart(key) {\n",
              "      const quickchartButtonEl =\n",
              "        document.querySelector('#' + key + ' button');\n",
              "      quickchartButtonEl.disabled = true;  // To prevent multiple clicks.\n",
              "      quickchartButtonEl.classList.add('colab-df-spinner');\n",
              "      try {\n",
              "        const charts = await google.colab.kernel.invokeFunction(\n",
              "            'suggestCharts', [key], {});\n",
              "      } catch (error) {\n",
              "        console.error('Error during call to suggestCharts:', error);\n",
              "      }\n",
              "      quickchartButtonEl.classList.remove('colab-df-spinner');\n",
              "      quickchartButtonEl.classList.add('colab-df-quickchart-complete');\n",
              "    }\n",
              "    (() => {\n",
              "      let quickchartButtonEl =\n",
              "        document.querySelector('#df-341b3294-40a0-4c06-8b8b-782fdf52e1b5 button');\n",
              "      quickchartButtonEl.style.display =\n",
              "        google.colab.kernel.accessAllowed ? 'block' : 'none';\n",
              "    })();\n",
              "  </script>\n",
              "</div>\n",
              "    </div>\n",
              "  </div>\n"
            ]
          },
          "metadata": {},
          "execution_count": 24
        }
      ]
    },
    {
      "cell_type": "markdown",
      "source": [
        "# Data splitting\n",
        "\n",
        "We will split the data in train, test and validation."
      ],
      "metadata": {
        "id": "UnA29qHdVhRE"
      }
    },
    {
      "cell_type": "code",
      "source": [
        "from sklearn.model_selection import train_test_split\n",
        "\n",
        "X = df['reviews']\n",
        "y = df['ratings']\n",
        "\n",
        "# Divide the data in train (70%) and test (30%)\n",
        "X_train, X_test, y_train, y_test = train_test_split(X, y, test_size=0.3, random_state=42)\n",
        "\n",
        "# Divide the train data in train (80%) and validation (20%)\n",
        "X_train, X_val, y_train, y_val = train_test_split(X_train, y_train, test_size=0.2, random_state=42)"
      ],
      "metadata": {
        "id": "quvdN2kUV_9M"
      },
      "execution_count": 25,
      "outputs": []
    },
    {
      "cell_type": "markdown",
      "metadata": {
        "id": "eif0mb5cXl5v"
      },
      "source": [
        "# Tokenization\n",
        "\n",
        "After having all the data preprocessed and divided, we continue with their tokenization by words."
      ]
    },
    {
      "cell_type": "code",
      "execution_count": 26,
      "metadata": {
        "id": "c-a5XfkP30jL"
      },
      "outputs": [],
      "source": [
        "from transformers import AutoTokenizer\n",
        "\n",
        "#checkpoint = 'distilbert-base-uncased-finetuned-sst-2-english'\n",
        "checkpoint = 'nlptown/bert-base-multilingual-uncased-sentiment'\n",
        "tokenizer = AutoTokenizer.from_pretrained(checkpoint)"
      ]
    },
    {
      "cell_type": "code",
      "execution_count": 27,
      "metadata": {
        "id": "7AQ4rAArByU4"
      },
      "outputs": [],
      "source": [
        "X_train_tokenized = tokenizer(X_train.tolist(), truncation=True, padding=True, return_tensors='pt')\n",
        "#X_val_tokenized = tokenizer(X_train.tolist(), truncation=True, padding=True, return_tensors=\"pt\")"
      ]
    },
    {
      "cell_type": "markdown",
      "source": [
        "# Try the model!"
      ],
      "metadata": {
        "id": "oJv3XVYZUjN9"
      }
    },
    {
      "cell_type": "code",
      "execution_count": 28,
      "metadata": {
        "id": "YUrZMpqmhtnf"
      },
      "outputs": [],
      "source": [
        "from transformers import AutoModelForSequenceClassification\n",
        "\n",
        "model = AutoModelForSequenceClassification.from_pretrained(checkpoint)\n",
        "\n",
        "model = model.to(device)"
      ]
    },
    {
      "cell_type": "code",
      "source": [
        "from torch.utils.data import DataLoader, TensorDataset\n",
        "\n",
        "X_train_tensors = [X_train_tokenized[key] for key in X_train_tokenized.keys()]\n",
        "\n",
        "# Create a TensorDataset\n",
        "dataset = TensorDataset(*X_train_tensors)\n",
        "\n",
        "batch_size = 4\n",
        "# Create a DataLoader to iterate over the data in batches\n",
        "dataloader = DataLoader(dataset, batch_size=batch_size, shuffle=False)"
      ],
      "metadata": {
        "id": "uEBKx0Z-4e6v"
      },
      "execution_count": 29,
      "outputs": []
    },
    {
      "cell_type": "code",
      "source": [
        "model.eval()  # Set the model in evaluation mode\n",
        "\n",
        "first_output = \"\"\n",
        "progress = 0\n",
        "\n",
        "for batch in dataloader:\n",
        "    batch = [data.to(device) for data in batch]\n",
        "\n",
        "    # Unpack the batch and feed it to the model\n",
        "    inputs = {key: value for key, value in zip(X_train_tokenized.keys(), batch)}\n",
        "    output = model(**inputs)\n",
        "\n",
        "    progress = progress + 1\n",
        "    if (progress % 2000 == 0):\n",
        "      #print(type(output))\n",
        "      print(\"Progress: \" + str(progress) + \" of \" + str(len(dataloader)))\n",
        "\n",
        "    # Process the model output as needed\n",
        "    #results.append(output)\n",
        "    if progress == 1:\n",
        "      first_output = output\n",
        "\n",
        "#eval_results = torch.cat(results, dim=0)"
      ],
      "metadata": {
        "colab": {
          "base_uri": "https://localhost:8080/"
        },
        "id": "DoLFUpU25_tx",
        "outputId": "47d867e8-c60a-4c20-c0aa-136a9ba86c67"
      },
      "execution_count": 30,
      "outputs": [
        {
          "output_type": "stream",
          "name": "stdout",
          "text": [
            "Progress: 2000 of 13096\n",
            "Progress: 4000 of 13096\n",
            "Progress: 6000 of 13096\n",
            "Progress: 8000 of 13096\n",
            "Progress: 10000 of 13096\n",
            "Progress: 12000 of 13096\n"
          ]
        }
      ]
    },
    {
      "cell_type": "code",
      "source": [
        "class_probs = first_output.logits.softmax(dim=1)\n",
        "predicted_labels = torch.argmax(class_probs, dim=-1)\n",
        "print(class_probs)\n",
        "print(predicted_labels+1)"
      ],
      "metadata": {
        "id": "TATcjAskckod",
        "colab": {
          "base_uri": "https://localhost:8080/"
        },
        "outputId": "e40cc8ed-ae9d-41b7-b85f-59681f5222f3"
      },
      "execution_count": 31,
      "outputs": [
        {
          "output_type": "stream",
          "name": "stdout",
          "text": [
            "tensor([[0.1353, 0.0788, 0.1120, 0.2116, 0.4622],\n",
            "        [0.2668, 0.3868, 0.2453, 0.0824, 0.0188],\n",
            "        [0.0067, 0.0245, 0.1920, 0.6124, 0.1644],\n",
            "        [0.0032, 0.0070, 0.1374, 0.5611, 0.2913]], device='cuda:0',\n",
            "       grad_fn=<SoftmaxBackward0>)\n",
            "tensor([5, 2, 4, 4], device='cuda:0')\n"
          ]
        }
      ]
    },
    {
      "cell_type": "code",
      "source": [
        "for i, input_text in enumerate(X_train[0:4]):\n",
        "    print(f\"Input: {input_text}\")\n",
        "    print(f\"Predicted Class Probabilities: {class_probs[i]}\")\n",
        "    print(f\"Predicted Label: {predicted_labels[i]+1}\")\n",
        "    print()"
      ],
      "metadata": {
        "colab": {
          "base_uri": "https://localhost:8080/"
        },
        "id": "aOcLgvcncb4e",
        "outputId": "5dc9279e-1160-42ac-c8f4-49fae033ff80"
      },
      "execution_count": 33,
      "outputs": [
        {
          "output_type": "stream",
          "name": "stdout",
          "text": [
            "Input: disneyland park times adult without child time bring two year old daughter say bring kid see disneyland kid eye different experience see light see character priceless avoid come time take picture hilarious hahaha guess different see far away get close character amazing super patient\n",
            "Predicted Class Probabilities: tensor([0.1353, 0.0788, 0.1120, 0.2116, 0.4622], device='cuda:0',\n",
            "       grad_fn=<SelectBackward0>)\n",
            "Predicted Label: 5\n",
            "\n",
            "Input: time step symbolic globe uss every minute feel magical enter place lot visitor jut like we excite overwhelmed beautiful sight inside gigantic place actually book ticket advance fortunately experience hassle difficulty buy ticket booth fast though long queue enjoy attraction feel disappointed transformer water world attraction cancel due technical reason due bad weather condition overall experience instagrammable photo disappoint feel satisfied may suggest wear comfortable shoe walk patient queuing come early enjoy ride attraction\n",
            "Predicted Class Probabilities: tensor([0.2668, 0.3868, 0.2453, 0.0824, 0.0188], device='cuda:0',\n",
            "       grad_fn=<SelectBackward0>)\n",
            "Predicted Label: 2\n",
            "\n",
            "Input: visit disneyland 2 elementary age kids disney world several time kid ready long line long walk pleasantly surprised park scale much manageable short amount time love variation magic kingdom despite fact similar alter we feel like totally different experience notice however guest service disney know quite good overall great time\n",
            "Predicted Class Probabilities: tensor([0.0067, 0.0245, 0.1920, 0.6124, 0.1644], device='cuda:0',\n",
            "       grad_fn=<SelectBackward0>)\n",
            "Predicted Label: 4\n",
            "\n",
            "Input: good park arrive early head back park food price decent much fun watch kid eye autograph book let kid get character signature love\n",
            "Predicted Class Probabilities: tensor([0.0032, 0.0070, 0.1374, 0.5611, 0.2913], device='cuda:0',\n",
            "       grad_fn=<SelectBackward0>)\n",
            "Predicted Label: 4\n",
            "\n"
          ]
        }
      ]
    },
    {
      "cell_type": "code",
      "source": [
        "#device = \"cpu\"\n",
        "#X_train_tokenized = X_train_tokenized.to(device)\n",
        "\n",
        "#output = model(**X_train_tokenized)"
      ],
      "metadata": {
        "id": "ZkcuQRbJclzy"
      },
      "execution_count": null,
      "outputs": []
    },
    {
      "cell_type": "code",
      "execution_count": null,
      "metadata": {
        "id": "RiHvzH3t6dX0"
      },
      "outputs": [],
      "source": [
        "#outputs = model(**inputs)\n",
        "#print(outputs.last_hidden_state.shape)"
      ]
    },
    {
      "cell_type": "code",
      "source": [
        "inputs = tokenizer([\"I love you\", \"I hate you\"], truncation=True, padding=True, return_tensors='pt')\n",
        "inputs.to(device)\n",
        "\n",
        "outputs = model(**inputs)"
      ],
      "metadata": {
        "id": "g2H1eSw73c8S"
      },
      "execution_count": 11,
      "outputs": []
    },
    {
      "cell_type": "code",
      "source": [
        "class_probs = outputs.logits.softmax(dim=1)\n",
        "predicted_labels = torch.argmax(class_probs, dim=-1)\n",
        "print(class_probs)\n",
        "print(predicted_labels+1)"
      ],
      "metadata": {
        "colab": {
          "base_uri": "https://localhost:8080/"
        },
        "id": "IeCrbaTk4J-3",
        "outputId": "7b78ed9f-b4f1-4df5-8a96-c622f262033c"
      },
      "execution_count": 19,
      "outputs": [
        {
          "output_type": "stream",
          "name": "stdout",
          "text": [
            "tensor([[0.0055, 0.0050, 0.0204, 0.1145, 0.8547],\n",
            "        [0.6346, 0.1560, 0.0513, 0.0405, 0.1175]], device='cuda:0',\n",
            "       grad_fn=<SoftmaxBackward0>)\n",
            "tensor([5, 1], device='cuda:0')\n"
          ]
        }
      ]
    }
  ],
  "metadata": {
    "colab": {
      "provenance": [],
      "gpuType": "T4"
    },
    "kernelspec": {
      "display_name": "Python 3",
      "name": "python3"
    },
    "language_info": {
      "name": "python"
    },
    "accelerator": "GPU"
  },
  "nbformat": 4,
  "nbformat_minor": 0
}